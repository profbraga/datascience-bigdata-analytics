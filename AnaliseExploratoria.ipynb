{
 "cells": [
  {
   "cell_type": "markdown",
   "id": "2f3e78e3",
   "metadata": {},
   "source": [
    "Turma de Ciência de Dados, Big Data e Analytics - Introdução à Análise Exploratória"
   ]
  },
  {
   "cell_type": "markdown",
   "id": "d50930e7",
   "metadata": {},
   "source": [
    "Aula realizada em 17/02/2022"
   ]
  },
  {
   "cell_type": "code",
   "execution_count": 3,
   "id": "39744226",
   "metadata": {},
   "outputs": [
    {
     "name": "stdout",
     "output_type": "stream",
     "text": [
      "Ciência de Dados, Big Data e Analytics - Introdução à Análise Exploratória\n"
     ]
    }
   ],
   "source": [
    "#Começando o nosso notebook colocando o nome da disciplina como mensagem\n",
    "\n",
    "print('Ciência de Dados, Big Data e Analytics - Introdução à Análise Exploratória')"
   ]
  },
  {
   "cell_type": "code",
   "execution_count": 5,
   "id": "550dd08b",
   "metadata": {},
   "outputs": [
    {
     "name": "stdout",
     "output_type": "stream",
     "text": [
      "Teste de soma:  2\n",
      "Teste de produto:  3\n",
      "Teste de divisão:  2.0\n",
      "Teste de divisão:  0.3333333333333333\n"
     ]
    }
   ],
   "source": [
    "#Testando se as operações aritméticas básicas estão funcionando\n",
    "\n",
    "print('Teste de soma: ', 1+1)\n",
    "print('Teste de produto: ', 1*3)\n",
    "print('Teste de divisão: ', 4/2)\n",
    "print('Teste de divisão: ', 1/3)"
   ]
  },
  {
   "cell_type": "code",
   "execution_count": 8,
   "id": "e2dbd08e",
   "metadata": {
    "scrolled": true
   },
   "outputs": [],
   "source": [
    "#Tudo ok por enquanto. Agora vamos calcular algumas medidas\n",
    "#Vamos definir um conjunto para testes\n",
    "conjunto1 = [1, 2, 3, 4, 4]"
   ]
  },
  {
   "cell_type": "code",
   "execution_count": 11,
   "id": "df894a20",
   "metadata": {},
   "outputs": [],
   "source": [
    "# E vamos usar uma biblioteca muito útil em ciência de dados, que se chama numpy\n",
    "# Para isso, precisamos importá-la\n",
    "import numpy as np"
   ]
  },
  {
   "cell_type": "code",
   "execution_count": 15,
   "id": "9a9d23d0",
   "metadata": {},
   "outputs": [
    {
     "name": "stdout",
     "output_type": "stream",
     "text": [
      "A média dos elementos do conjunto é:  2.8\n"
     ]
    }
   ],
   "source": [
    "# Agora vamos calcular a média dos elementos do conjunto\n",
    "\n",
    "print('A média dos elementos do conjunto é: ', np.mean(conjunto1))"
   ]
  },
  {
   "cell_type": "code",
   "execution_count": 16,
   "id": "c832e9a4",
   "metadata": {},
   "outputs": [
    {
     "name": "stdout",
     "output_type": "stream",
     "text": [
      "A mediana dos elementos do conjunto é:  3.0\n"
     ]
    }
   ],
   "source": [
    "# Agora vamos calcular a mediana dos elementos do conjunto\n",
    "\n",
    "print('A mediana dos elementos do conjunto é: ',np.median(conjunto1))"
   ]
  },
  {
   "cell_type": "code",
   "execution_count": 17,
   "id": "abea3481",
   "metadata": {},
   "outputs": [
    {
     "name": "stdout",
     "output_type": "stream",
     "text": [
      "A mediana é  3.5\n"
     ]
    }
   ],
   "source": [
    "# Vamos calcular a mediana quando o conjunto tem um número de elementos que é par\n",
    "\n",
    "print('A mediana é ', np.median([1, 2, 3, 4, 4, 6]))"
   ]
  },
  {
   "cell_type": "code",
   "execution_count": 19,
   "id": "13c672cf",
   "metadata": {},
   "outputs": [
    {
     "name": "stdout",
     "output_type": "stream",
     "text": [
      "A mediana é  3.5\n"
     ]
    }
   ],
   "source": [
    "# Se mudarmos a ordem dos elementos, acontece o seguinte\n",
    "\n",
    "print('A mediana é ', np.median([1, 2, 6, 4, 4, 3]))"
   ]
  },
  {
   "cell_type": "code",
   "execution_count": 22,
   "id": "604b0f1a",
   "metadata": {},
   "outputs": [
    {
     "name": "stdout",
     "output_type": "stream",
     "text": [
      "O desvio padrão é  1.16619037896906\n"
     ]
    }
   ],
   "source": [
    "# Calculamos o desvio padrão do conjunto\n",
    "# Na validação, notamos que a fórmula que o numpy usa é diferente da fórmula da apostila\n",
    "\n",
    "print('O desvio padrão é ', np.std(conjunto1))"
   ]
  },
  {
   "cell_type": "code",
   "execution_count": 23,
   "id": "2377dd5b",
   "metadata": {},
   "outputs": [],
   "source": [
    "# Vamos criar nossa primeira matriz da disciplina\n",
    "\n",
    "matriz1 = np.array([[1,2,3],[4,5,6],[7,8,9]])"
   ]
  },
  {
   "cell_type": "code",
   "execution_count": 24,
   "id": "5738196b",
   "metadata": {},
   "outputs": [
    {
     "data": {
      "text/plain": [
       "array([[1, 2, 3],\n",
       "       [4, 5, 6],\n",
       "       [7, 8, 9]])"
      ]
     },
     "execution_count": 24,
     "metadata": {},
     "output_type": "execute_result"
    }
   ],
   "source": [
    "# E vamos ver como ela é\n",
    "\n",
    "matriz1"
   ]
  },
  {
   "cell_type": "code",
   "execution_count": 25,
   "id": "afff83e8",
   "metadata": {},
   "outputs": [],
   "source": [
    "# Agora vamor mudar o tipo dos dados, para float\n",
    "\n",
    "matriz2 = np.array([[1,2,3],[4,5,6],[7,8,9]], dtype = float)"
   ]
  },
  {
   "cell_type": "code",
   "execution_count": 26,
   "id": "dfec8595",
   "metadata": {},
   "outputs": [
    {
     "data": {
      "text/plain": [
       "array([[1., 2., 3.],\n",
       "       [4., 5., 6.],\n",
       "       [7., 8., 9.]])"
      ]
     },
     "execution_count": 26,
     "metadata": {},
     "output_type": "execute_result"
    }
   ],
   "source": [
    "# E vamos ver como fica, com o novo tipo\n",
    "\n",
    "matriz2"
   ]
  },
  {
   "cell_type": "markdown",
   "id": "a64b4687",
   "metadata": {},
   "source": [
    "Aula que será realizada em 21/02/2022 - Contém spoiler"
   ]
  },
  {
   "cell_type": "code",
   "execution_count": 27,
   "id": "b596e3d4",
   "metadata": {},
   "outputs": [],
   "source": [
    "# Cálculo de moda de um conjunto\n",
    "\n"
   ]
  },
  {
   "cell_type": "code",
   "execution_count": 30,
   "id": "e93ac0e4",
   "metadata": {},
   "outputs": [],
   "source": [
    "# Cálculo do valor máximo de um conjunto\n",
    "\n"
   ]
  },
  {
   "cell_type": "code",
   "execution_count": 29,
   "id": "b89480fd",
   "metadata": {},
   "outputs": [],
   "source": [
    "# Cálculo do valor mínimo de um conjunto\n",
    "\n"
   ]
  },
  {
   "cell_type": "code",
   "execution_count": 31,
   "id": "cb9b39a4",
   "metadata": {},
   "outputs": [],
   "source": [
    "# Cálculo da variância de um conjunto\n",
    "\n"
   ]
  },
  {
   "cell_type": "code",
   "execution_count": 32,
   "id": "8de22cec",
   "metadata": {},
   "outputs": [],
   "source": [
    "# Trabalhando com pandas e dataframes\n",
    "import pandas as pd\n",
    "\n"
   ]
  },
  {
   "cell_type": "code",
   "execution_count": 35,
   "id": "cbdc029c",
   "metadata": {},
   "outputs": [
    {
     "name": "stdout",
     "output_type": "stream",
     "text": [
      "      A   B   C   D\n",
      "0   100  23  41   1\n",
      "1  2000  32  56  12\n",
      "2   845  44  12  18\n"
     ]
    }
   ],
   "source": [
    "# Criando a matriz que vamos usar como testes\n",
    "\n",
    "matriz1 = pd.DataFrame({\n",
    "    \"A\": [100, 2000, 845],\n",
    "    \"B\": [ 23,   32,  44],\n",
    "    \"C\": [ 41,   56,  12],\n",
    "    \"D\": [  1,   12,  18]\n",
    "})\n",
    "\n",
    "# Visualizando a matriz\n",
    "print(matriz1)"
   ]
  },
  {
   "cell_type": "code",
   "execution_count": 36,
   "id": "bdd7f1ff",
   "metadata": {},
   "outputs": [],
   "source": [
    "# Removendo colunas\n",
    "\n"
   ]
  },
  {
   "cell_type": "code",
   "execution_count": 37,
   "id": "7d4a4af6",
   "metadata": {},
   "outputs": [],
   "source": [
    "# Removendo linhas\n",
    "\n"
   ]
  },
  {
   "cell_type": "code",
   "execution_count": 38,
   "id": "2cdddd1e",
   "metadata": {},
   "outputs": [],
   "source": [
    "# Tratamento de Dados Nulos\n",
    "\n"
   ]
  },
  {
   "cell_type": "code",
   "execution_count": null,
   "id": "bbe9ad6a",
   "metadata": {},
   "outputs": [],
   "source": []
  }
 ],
 "metadata": {
  "kernelspec": {
   "display_name": "Python 3 (ipykernel)",
   "language": "python",
   "name": "python3"
  },
  "language_info": {
   "codemirror_mode": {
    "name": "ipython",
    "version": 3
   },
   "file_extension": ".py",
   "mimetype": "text/x-python",
   "name": "python",
   "nbconvert_exporter": "python",
   "pygments_lexer": "ipython3",
   "version": "3.8.8"
  }
 },
 "nbformat": 4,
 "nbformat_minor": 5
}
