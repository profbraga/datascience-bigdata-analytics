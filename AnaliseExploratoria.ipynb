{
 "cells": [
  {
   "cell_type": "markdown",
   "id": "2f3e78e3",
   "metadata": {},
   "source": [
    "Turma de Ciência de Dados, Big Data e Analytics - Introdução à Análise Exploratória"
   ]
  },
  {
   "cell_type": "markdown",
   "id": "d50930e7",
   "metadata": {},
   "source": [
    "Aula realizada em 17/02/2022"
   ]
  },
  {
   "cell_type": "code",
   "execution_count": 1,
   "id": "39744226",
   "metadata": {
    "scrolled": true
   },
   "outputs": [
    {
     "name": "stdout",
     "output_type": "stream",
     "text": [
      "Ciência de Dados, Big Data e Analytics - Introdução à Análise Exploratória\n"
     ]
    }
   ],
   "source": [
    "#Começando o nosso notebook colocando o nome da disciplina como mensagem\n",
    "\n",
    "print('Ciência de Dados, Big Data e Analytics - Introdução à Análise Exploratória')"
   ]
  },
  {
   "cell_type": "code",
   "execution_count": 2,
   "id": "550dd08b",
   "metadata": {},
   "outputs": [
    {
     "name": "stdout",
     "output_type": "stream",
     "text": [
      "Teste de soma:  2\n",
      "Teste de produto:  3\n",
      "Teste de divisão:  2.0\n",
      "Teste de divisão:  0.3333333333333333\n"
     ]
    }
   ],
   "source": [
    "#Testando se as operações aritméticas básicas estão funcionando\n",
    "\n",
    "print('Teste de soma: ', 1+1)\n",
    "print('Teste de produto: ', 1*3)\n",
    "print('Teste de divisão: ', 4/2)\n",
    "print('Teste de divisão: ', 1/3)"
   ]
  },
  {
   "cell_type": "code",
   "execution_count": 3,
   "id": "e2dbd08e",
   "metadata": {
    "scrolled": true
   },
   "outputs": [],
   "source": [
    "#Tudo ok por enquanto. Agora vamos calcular algumas medidas\n",
    "#Vamos definir um conjunto para testes\n",
    "conjunto1 = [1, 2, 3, 4, 4]"
   ]
  },
  {
   "cell_type": "code",
   "execution_count": 4,
   "id": "df894a20",
   "metadata": {},
   "outputs": [],
   "source": [
    "# E vamos usar uma biblioteca muito útil em ciência de dados, que se chama numpy\n",
    "# Para isso, precisamos importá-la\n",
    "import numpy as np"
   ]
  },
  {
   "cell_type": "code",
   "execution_count": 5,
   "id": "9a9d23d0",
   "metadata": {},
   "outputs": [
    {
     "name": "stdout",
     "output_type": "stream",
     "text": [
      "A média dos elementos do conjunto é:  2.8\n"
     ]
    }
   ],
   "source": [
    "# Agora vamos calcular a média dos elementos do conjunto\n",
    "\n",
    "print('A média dos elementos do conjunto é: ', np.mean(conjunto1))"
   ]
  },
  {
   "cell_type": "code",
   "execution_count": 6,
   "id": "c832e9a4",
   "metadata": {},
   "outputs": [
    {
     "name": "stdout",
     "output_type": "stream",
     "text": [
      "A mediana dos elementos do conjunto é:  3.0\n"
     ]
    }
   ],
   "source": [
    "# Agora vamos calcular a mediana dos elementos do conjunto\n",
    "\n",
    "print('A mediana dos elementos do conjunto é: ',np.median(conjunto1))"
   ]
  },
  {
   "cell_type": "code",
   "execution_count": 7,
   "id": "abea3481",
   "metadata": {},
   "outputs": [
    {
     "name": "stdout",
     "output_type": "stream",
     "text": [
      "A mediana é  3.5\n"
     ]
    }
   ],
   "source": [
    "# Vamos calcular a mediana quando o conjunto tem um número de elementos que é par\n",
    "\n",
    "print('A mediana é ', np.median([1, 2, 3, 4, 4, 6]))"
   ]
  },
  {
   "cell_type": "code",
   "execution_count": 8,
   "id": "13c672cf",
   "metadata": {},
   "outputs": [
    {
     "name": "stdout",
     "output_type": "stream",
     "text": [
      "A mediana é  3.5\n"
     ]
    }
   ],
   "source": [
    "# Se mudarmos a ordem dos elementos, acontece o seguinte\n",
    "\n",
    "print('A mediana é ', np.median([1, 2, 6, 4, 4, 3]))"
   ]
  },
  {
   "cell_type": "code",
   "execution_count": 10,
   "id": "604b0f1a",
   "metadata": {},
   "outputs": [
    {
     "name": "stdout",
     "output_type": "stream",
     "text": [
      "O desvio padrão é  1.16619037896906\n"
     ]
    }
   ],
   "source": [
    "# Calculamos o desvio padrão do conjunto\n",
    "# Na validação, notamos que a fórmula que o numpy usa é diferente da fórmula da apostila\n",
    "\n",
    "print('O desvio padrão é ', np.std(conjunto1))"
   ]
  },
  {
   "cell_type": "code",
   "execution_count": 11,
   "id": "2377dd5b",
   "metadata": {},
   "outputs": [],
   "source": [
    "# Vamos criar nossa primeira matriz da disciplina\n",
    "\n",
    "matriz1 = np.array([[1,2,3],[4,5,6],[7,8,9]])"
   ]
  },
  {
   "cell_type": "code",
   "execution_count": 12,
   "id": "5738196b",
   "metadata": {},
   "outputs": [
    {
     "data": {
      "text/plain": [
       "array([[1, 2, 3],\n",
       "       [4, 5, 6],\n",
       "       [7, 8, 9]])"
      ]
     },
     "execution_count": 12,
     "metadata": {},
     "output_type": "execute_result"
    }
   ],
   "source": [
    "# E vamos ver como ela é\n",
    "\n",
    "matriz1"
   ]
  },
  {
   "cell_type": "code",
   "execution_count": 13,
   "id": "afff83e8",
   "metadata": {},
   "outputs": [],
   "source": [
    "# Agora vamor mudar o tipo dos dados, para float\n",
    "\n",
    "matriz2 = np.array([[1,2,3],[4,5,6],[7,8,9]], dtype = float)"
   ]
  },
  {
   "cell_type": "code",
   "execution_count": 14,
   "id": "dfec8595",
   "metadata": {},
   "outputs": [
    {
     "data": {
      "text/plain": [
       "array([[1., 2., 3.],\n",
       "       [4., 5., 6.],\n",
       "       [7., 8., 9.]])"
      ]
     },
     "execution_count": 14,
     "metadata": {},
     "output_type": "execute_result"
    }
   ],
   "source": [
    "# E vamos ver como fica, com o novo tipo\n",
    "\n",
    "matriz2"
   ]
  },
  {
   "cell_type": "markdown",
   "id": "a64b4687",
   "metadata": {},
   "source": [
    "Aula que será realizada em 21/02/2022 - Contém spoiler"
   ]
  },
  {
   "cell_type": "code",
   "execution_count": 15,
   "id": "b596e3d4",
   "metadata": {},
   "outputs": [
    {
     "name": "stdout",
     "output_type": "stream",
     "text": [
      "A moda do conjunto 1 é 4\n"
     ]
    }
   ],
   "source": [
    "# Cálculo de moda de um conjunto\n",
    "# Ver a documentação da biblioteca - https://docs.python.org/pt-br/3/library/statistics.html \n",
    "\n",
    "import statistics\n",
    "\n",
    "print('A moda do conjunto 1 é', statistics.mode(conjunto1))"
   ]
  },
  {
   "cell_type": "code",
   "execution_count": 16,
   "id": "e93ac0e4",
   "metadata": {},
   "outputs": [
    {
     "name": "stdout",
     "output_type": "stream",
     "text": [
      "O maior valor do conjunto é 4\n"
     ]
    }
   ],
   "source": [
    "# Cálculo do valor máximo de um conjunto\n",
    "\n",
    "print('O maior valor do conjunto é', max(conjunto1))"
   ]
  },
  {
   "cell_type": "code",
   "execution_count": 17,
   "id": "b89480fd",
   "metadata": {},
   "outputs": [
    {
     "name": "stdout",
     "output_type": "stream",
     "text": [
      "O menor valor do conjunto é 1\n"
     ]
    }
   ],
   "source": [
    "# Cálculo do valor mínimo de um conjunto\n",
    "\n",
    "print('O menor valor do conjunto é', min(conjunto1))"
   ]
  },
  {
   "cell_type": "code",
   "execution_count": 18,
   "id": "cb9b39a4",
   "metadata": {},
   "outputs": [
    {
     "name": "stdout",
     "output_type": "stream",
     "text": [
      "A variancia do conjunto 1 é 1.3599999999999999\n"
     ]
    }
   ],
   "source": [
    "# Cálculo da variância de um conjunto\n",
    "\n",
    "print('A variancia do conjunto 1 é', statistics.pvariance(conjunto1))"
   ]
  },
  {
   "cell_type": "code",
   "execution_count": 19,
   "id": "841b389e",
   "metadata": {},
   "outputs": [
    {
     "name": "stdout",
     "output_type": "stream",
     "text": [
      "O desvio padrão populacional é 1.16619037896906\n"
     ]
    }
   ],
   "source": [
    "# Cálculo do desvio padrão populacional\n",
    "\n",
    "print('O desvio padrão populacional é', statistics.pstdev(conjunto1))"
   ]
  },
  {
   "cell_type": "code",
   "execution_count": 20,
   "id": "9c5788d4",
   "metadata": {},
   "outputs": [
    {
     "name": "stdout",
     "output_type": "stream",
     "text": [
      "A variancia amostral é 1.7\n",
      "O desvio padrão amostral é 1.3038404810405297\n"
     ]
    }
   ],
   "source": [
    "# Agora calculando o desvio padrão e a variância amostral\n",
    "\n",
    "print('A variancia amostral é', statistics.variance(conjunto1))\n",
    "print('O desvio padrão amostral é', statistics.stdev(conjunto1))"
   ]
  },
  {
   "cell_type": "code",
   "execution_count": 21,
   "id": "8de22cec",
   "metadata": {},
   "outputs": [],
   "source": [
    "# Trabalhando com pandas e dataframes - https://pandas.pydata.org/\n",
    "\n",
    "import pandas as pd\n",
    "\n"
   ]
  },
  {
   "cell_type": "code",
   "execution_count": 22,
   "id": "cbdc029c",
   "metadata": {},
   "outputs": [
    {
     "name": "stdout",
     "output_type": "stream",
     "text": [
      "      A   B   C   D\n",
      "0   100  23  41   1\n",
      "1  2000  32  56  12\n",
      "2   845  44  12  18\n"
     ]
    }
   ],
   "source": [
    "# Criando a matriz que vamos usar como testes\n",
    "\n",
    "matriz1 = pd.DataFrame({\n",
    "    \"A\": [100, 2000, 845],\n",
    "    \"B\": [ 23,   32,  44],\n",
    "    \"C\": [ 41,   56,  12],\n",
    "    \"D\": [  1,   12,  18]\n",
    "})\n",
    "\n",
    "# Visualizando a matriz\n",
    "print(matriz1)"
   ]
  },
  {
   "cell_type": "code",
   "execution_count": 23,
   "id": "bdd7f1ff",
   "metadata": {},
   "outputs": [
    {
     "data": {
      "text/html": [
       "<div>\n",
       "<style scoped>\n",
       "    .dataframe tbody tr th:only-of-type {\n",
       "        vertical-align: middle;\n",
       "    }\n",
       "\n",
       "    .dataframe tbody tr th {\n",
       "        vertical-align: top;\n",
       "    }\n",
       "\n",
       "    .dataframe thead th {\n",
       "        text-align: right;\n",
       "    }\n",
       "</style>\n",
       "<table border=\"1\" class=\"dataframe\">\n",
       "  <thead>\n",
       "    <tr style=\"text-align: right;\">\n",
       "      <th></th>\n",
       "      <th>A</th>\n",
       "      <th>B</th>\n",
       "      <th>C</th>\n",
       "    </tr>\n",
       "  </thead>\n",
       "  <tbody>\n",
       "    <tr>\n",
       "      <th>0</th>\n",
       "      <td>100</td>\n",
       "      <td>23</td>\n",
       "      <td>41</td>\n",
       "    </tr>\n",
       "    <tr>\n",
       "      <th>1</th>\n",
       "      <td>2000</td>\n",
       "      <td>32</td>\n",
       "      <td>56</td>\n",
       "    </tr>\n",
       "    <tr>\n",
       "      <th>2</th>\n",
       "      <td>845</td>\n",
       "      <td>44</td>\n",
       "      <td>12</td>\n",
       "    </tr>\n",
       "  </tbody>\n",
       "</table>\n",
       "</div>"
      ],
      "text/plain": [
       "      A   B   C\n",
       "0   100  23  41\n",
       "1  2000  32  56\n",
       "2   845  44  12"
      ]
     },
     "execution_count": 23,
     "metadata": {},
     "output_type": "execute_result"
    }
   ],
   "source": [
    "# Removendo colunas\n",
    "\n",
    "matriz1.drop('D', inplace=True, axis=1)\n",
    "matriz1"
   ]
  },
  {
   "cell_type": "code",
   "execution_count": 24,
   "id": "7d4a4af6",
   "metadata": {},
   "outputs": [
    {
     "data": {
      "text/html": [
       "<div>\n",
       "<style scoped>\n",
       "    .dataframe tbody tr th:only-of-type {\n",
       "        vertical-align: middle;\n",
       "    }\n",
       "\n",
       "    .dataframe tbody tr th {\n",
       "        vertical-align: top;\n",
       "    }\n",
       "\n",
       "    .dataframe thead th {\n",
       "        text-align: right;\n",
       "    }\n",
       "</style>\n",
       "<table border=\"1\" class=\"dataframe\">\n",
       "  <thead>\n",
       "    <tr style=\"text-align: right;\">\n",
       "      <th></th>\n",
       "      <th>A</th>\n",
       "      <th>B</th>\n",
       "      <th>C</th>\n",
       "    </tr>\n",
       "  </thead>\n",
       "  <tbody>\n",
       "    <tr>\n",
       "      <th>0</th>\n",
       "      <td>100</td>\n",
       "      <td>23</td>\n",
       "      <td>41</td>\n",
       "    </tr>\n",
       "    <tr>\n",
       "      <th>2</th>\n",
       "      <td>845</td>\n",
       "      <td>44</td>\n",
       "      <td>12</td>\n",
       "    </tr>\n",
       "  </tbody>\n",
       "</table>\n",
       "</div>"
      ],
      "text/plain": [
       "     A   B   C\n",
       "0  100  23  41\n",
       "2  845  44  12"
      ]
     },
     "execution_count": 24,
     "metadata": {},
     "output_type": "execute_result"
    }
   ],
   "source": [
    "# Removendo linhas\n",
    "\n",
    "matrizSemLinha = matriz1.drop(1)\n",
    "matrizSemLinha"
   ]
  },
  {
   "cell_type": "code",
   "execution_count": 48,
   "id": "2cdddd1e",
   "metadata": {},
   "outputs": [
    {
     "name": "stdout",
     "output_type": "stream",
     "text": [
      "      A      B      C     D   E\n",
      "0   100   23.0   78.0   1.0  34\n",
      "1  2000    NaN   56.0   4.0  56\n",
      "2    24   44.0   12.0  18.0  78\n",
      "3   209    NaN    NaN  67.0  89\n",
      "4   789  897.0  456.0   NaN   0\n"
     ]
    }
   ],
   "source": [
    "# Tratamento de Dados Nulos\n",
    "\n",
    "matrizComNulos = pd.DataFrame({\n",
    "    \"A\": [100,   2000, 24,    209,    789],\n",
    "    \"B\": [ 23, np.nan, 44, np.nan,    897],\n",
    "    \"C\": [ 78,     56, 12, np.nan,    456],\n",
    "    \"D\": [  1,      4, 18,     67, np.nan],\n",
    "    \"E\": [ 34,     56, 78,     89,      0]\n",
    "})\n",
    "\n",
    "# Visualizando a matriz\n",
    "print(matrizComNulos)"
   ]
  },
  {
   "cell_type": "code",
   "execution_count": 26,
   "id": "bbe9ad6a",
   "metadata": {},
   "outputs": [
    {
     "data": {
      "text/html": [
       "<div>\n",
       "<style scoped>\n",
       "    .dataframe tbody tr th:only-of-type {\n",
       "        vertical-align: middle;\n",
       "    }\n",
       "\n",
       "    .dataframe tbody tr th {\n",
       "        vertical-align: top;\n",
       "    }\n",
       "\n",
       "    .dataframe thead th {\n",
       "        text-align: right;\n",
       "    }\n",
       "</style>\n",
       "<table border=\"1\" class=\"dataframe\">\n",
       "  <thead>\n",
       "    <tr style=\"text-align: right;\">\n",
       "      <th></th>\n",
       "      <th>A</th>\n",
       "      <th>B</th>\n",
       "      <th>C</th>\n",
       "      <th>D</th>\n",
       "      <th>E</th>\n",
       "    </tr>\n",
       "  </thead>\n",
       "  <tbody>\n",
       "    <tr>\n",
       "      <th>0</th>\n",
       "      <td>100</td>\n",
       "      <td>23.0</td>\n",
       "      <td>78.0</td>\n",
       "      <td>1.0</td>\n",
       "      <td>34</td>\n",
       "    </tr>\n",
       "    <tr>\n",
       "      <th>2</th>\n",
       "      <td>24</td>\n",
       "      <td>44.0</td>\n",
       "      <td>12.0</td>\n",
       "      <td>18.0</td>\n",
       "      <td>78</td>\n",
       "    </tr>\n",
       "  </tbody>\n",
       "</table>\n",
       "</div>"
      ],
      "text/plain": [
       "     A     B     C     D   E\n",
       "0  100  23.0  78.0   1.0  34\n",
       "2   24  44.0  12.0  18.0  78"
      ]
     },
     "execution_count": 26,
     "metadata": {},
     "output_type": "execute_result"
    }
   ],
   "source": [
    "# Agora vamos tirar todos os nulos da matriz\n",
    "\n",
    "matrizSemNulos = matrizComNulos.dropna()\n",
    "matrizSemNulos"
   ]
  },
  {
   "cell_type": "code",
   "execution_count": 27,
   "id": "3399117b",
   "metadata": {},
   "outputs": [
    {
     "data": {
      "text/html": [
       "<div>\n",
       "<style scoped>\n",
       "    .dataframe tbody tr th:only-of-type {\n",
       "        vertical-align: middle;\n",
       "    }\n",
       "\n",
       "    .dataframe tbody tr th {\n",
       "        vertical-align: top;\n",
       "    }\n",
       "\n",
       "    .dataframe thead th {\n",
       "        text-align: right;\n",
       "    }\n",
       "</style>\n",
       "<table border=\"1\" class=\"dataframe\">\n",
       "  <thead>\n",
       "    <tr style=\"text-align: right;\">\n",
       "      <th></th>\n",
       "      <th>A</th>\n",
       "      <th>B</th>\n",
       "      <th>C</th>\n",
       "      <th>D</th>\n",
       "      <th>E</th>\n",
       "    </tr>\n",
       "  </thead>\n",
       "  <tbody>\n",
       "    <tr>\n",
       "      <th>0</th>\n",
       "      <td>100</td>\n",
       "      <td>23.0</td>\n",
       "      <td>78.0</td>\n",
       "      <td>1.0</td>\n",
       "      <td>34</td>\n",
       "    </tr>\n",
       "    <tr>\n",
       "      <th>1</th>\n",
       "      <td>2000</td>\n",
       "      <td>0</td>\n",
       "      <td>56.0</td>\n",
       "      <td>4.0</td>\n",
       "      <td>56</td>\n",
       "    </tr>\n",
       "    <tr>\n",
       "      <th>2</th>\n",
       "      <td>24</td>\n",
       "      <td>44.0</td>\n",
       "      <td>12.0</td>\n",
       "      <td>18.0</td>\n",
       "      <td>78</td>\n",
       "    </tr>\n",
       "    <tr>\n",
       "      <th>3</th>\n",
       "      <td>209</td>\n",
       "      <td>0</td>\n",
       "      <td>0</td>\n",
       "      <td>67.0</td>\n",
       "      <td>89</td>\n",
       "    </tr>\n",
       "    <tr>\n",
       "      <th>4</th>\n",
       "      <td>789</td>\n",
       "      <td>897.0</td>\n",
       "      <td>456.0</td>\n",
       "      <td>0</td>\n",
       "      <td>0</td>\n",
       "    </tr>\n",
       "  </tbody>\n",
       "</table>\n",
       "</div>"
      ],
      "text/plain": [
       "      A      B      C     D   E\n",
       "0   100   23.0   78.0   1.0  34\n",
       "1  2000      0   56.0   4.0  56\n",
       "2    24   44.0   12.0  18.0  78\n",
       "3   209      0      0  67.0  89\n",
       "4   789  897.0  456.0     0   0"
      ]
     },
     "execution_count": 27,
     "metadata": {},
     "output_type": "execute_result"
    }
   ],
   "source": [
    "# Agora vamos criar um dataframe que substitui os valores nulos por zeros\n",
    "\n",
    "matrizComZerosAoInvesDeNulos = matrizComNulos.fillna(value='0')\n",
    "matrizComZerosAoInvesDeNulos\n"
   ]
  },
  {
   "cell_type": "code",
   "execution_count": 29,
   "id": "80bbe8bd",
   "metadata": {},
   "outputs": [
    {
     "data": {
      "text/html": [
       "<div>\n",
       "<style scoped>\n",
       "    .dataframe tbody tr th:only-of-type {\n",
       "        vertical-align: middle;\n",
       "    }\n",
       "\n",
       "    .dataframe tbody tr th {\n",
       "        vertical-align: top;\n",
       "    }\n",
       "\n",
       "    .dataframe thead th {\n",
       "        text-align: right;\n",
       "    }\n",
       "</style>\n",
       "<table border=\"1\" class=\"dataframe\">\n",
       "  <thead>\n",
       "    <tr style=\"text-align: right;\">\n",
       "      <th></th>\n",
       "      <th>A</th>\n",
       "      <th>B</th>\n",
       "      <th>C</th>\n",
       "      <th>D</th>\n",
       "      <th>E</th>\n",
       "    </tr>\n",
       "  </thead>\n",
       "  <tbody>\n",
       "    <tr>\n",
       "      <th>0</th>\n",
       "      <td>100</td>\n",
       "      <td>23.000000</td>\n",
       "      <td>78.0</td>\n",
       "      <td>1.0</td>\n",
       "      <td>34</td>\n",
       "    </tr>\n",
       "    <tr>\n",
       "      <th>1</th>\n",
       "      <td>2000</td>\n",
       "      <td>321.333333</td>\n",
       "      <td>56.0</td>\n",
       "      <td>4.0</td>\n",
       "      <td>56</td>\n",
       "    </tr>\n",
       "    <tr>\n",
       "      <th>2</th>\n",
       "      <td>24</td>\n",
       "      <td>44.000000</td>\n",
       "      <td>12.0</td>\n",
       "      <td>18.0</td>\n",
       "      <td>78</td>\n",
       "    </tr>\n",
       "    <tr>\n",
       "      <th>3</th>\n",
       "      <td>209</td>\n",
       "      <td>321.333333</td>\n",
       "      <td>150.5</td>\n",
       "      <td>67.0</td>\n",
       "      <td>89</td>\n",
       "    </tr>\n",
       "    <tr>\n",
       "      <th>4</th>\n",
       "      <td>789</td>\n",
       "      <td>897.000000</td>\n",
       "      <td>456.0</td>\n",
       "      <td>22.5</td>\n",
       "      <td>0</td>\n",
       "    </tr>\n",
       "  </tbody>\n",
       "</table>\n",
       "</div>"
      ],
      "text/plain": [
       "      A           B      C     D   E\n",
       "0   100   23.000000   78.0   1.0  34\n",
       "1  2000  321.333333   56.0   4.0  56\n",
       "2    24   44.000000   12.0  18.0  78\n",
       "3   209  321.333333  150.5  67.0  89\n",
       "4   789  897.000000  456.0  22.5   0"
      ]
     },
     "execution_count": 29,
     "metadata": {},
     "output_type": "execute_result"
    }
   ],
   "source": [
    "matrizComMediasAoInvesDeNulos = matrizComNulos.fillna(matrizComNulos.mean(0))\n",
    "matrizComMediasAoInvesDeNulos"
   ]
  },
  {
   "cell_type": "code",
   "execution_count": 50,
   "id": "7b6d240b",
   "metadata": {},
   "outputs": [],
   "source": [
    "############################### VER PROBLEMA AQUI!!! ##############################################\n",
    "matrizComMediasColunaB = matrizComNulos['B'].fillna(value=matrizComNulos['B'].mean(), inplace=True)\n",
    "matrizComMediasColunaB"
   ]
  },
  {
   "cell_type": "code",
   "execution_count": 34,
   "id": "530021d1",
   "metadata": {},
   "outputs": [],
   "source": []
  },
  {
   "cell_type": "code",
   "execution_count": 37,
   "id": "bd47062b",
   "metadata": {},
   "outputs": [
    {
     "name": "stdout",
     "output_type": "stream",
     "text": [
      "      A      B      C     D   E\n",
      "0   100   23.0   78.0   1.0  34\n",
      "1  2000    NaN   56.0   4.0  56\n",
      "2    24   44.0   12.0  18.0  78\n",
      "3   209    NaN    NaN  67.0  89\n",
      "4   789  897.0  456.0   NaN   0\n"
     ]
    }
   ],
   "source": [
    "matrizComNulos2 = pd.DataFrame({\n",
    "    \"A\": [100,   2000, 24,    209,    789],\n",
    "    \"B\": [ 23, np.nan, 44, np.nan,    897],\n",
    "    \"C\": [ 78,     56, 12, np.nan,    456],\n",
    "    \"D\": [  1,      4, 18,     67, np.nan],\n",
    "    \"E\": [ 34,     56, 78,     89,      0]\n",
    "})\n",
    "\n",
    "# Visualizando a matriz\n",
    "print(matrizComNulos2)"
   ]
  },
  {
   "cell_type": "code",
   "execution_count": 38,
   "id": "657c5861",
   "metadata": {},
   "outputs": [
    {
     "data": {
      "text/html": [
       "<div>\n",
       "<style scoped>\n",
       "    .dataframe tbody tr th:only-of-type {\n",
       "        vertical-align: middle;\n",
       "    }\n",
       "\n",
       "    .dataframe tbody tr th {\n",
       "        vertical-align: top;\n",
       "    }\n",
       "\n",
       "    .dataframe thead th {\n",
       "        text-align: right;\n",
       "    }\n",
       "</style>\n",
       "<table border=\"1\" class=\"dataframe\">\n",
       "  <thead>\n",
       "    <tr style=\"text-align: right;\">\n",
       "      <th></th>\n",
       "      <th>A</th>\n",
       "      <th>B</th>\n",
       "      <th>C</th>\n",
       "      <th>D</th>\n",
       "      <th>E</th>\n",
       "    </tr>\n",
       "  </thead>\n",
       "  <tbody>\n",
       "    <tr>\n",
       "      <th>0</th>\n",
       "      <td>100</td>\n",
       "      <td>23.0</td>\n",
       "      <td>78.0</td>\n",
       "      <td>1.0</td>\n",
       "      <td>34</td>\n",
       "    </tr>\n",
       "    <tr>\n",
       "      <th>1</th>\n",
       "      <td>2000</td>\n",
       "      <td>44.0</td>\n",
       "      <td>56.0</td>\n",
       "      <td>4.0</td>\n",
       "      <td>56</td>\n",
       "    </tr>\n",
       "    <tr>\n",
       "      <th>2</th>\n",
       "      <td>24</td>\n",
       "      <td>44.0</td>\n",
       "      <td>12.0</td>\n",
       "      <td>18.0</td>\n",
       "      <td>78</td>\n",
       "    </tr>\n",
       "    <tr>\n",
       "      <th>3</th>\n",
       "      <td>209</td>\n",
       "      <td>44.0</td>\n",
       "      <td>67.0</td>\n",
       "      <td>67.0</td>\n",
       "      <td>89</td>\n",
       "    </tr>\n",
       "    <tr>\n",
       "      <th>4</th>\n",
       "      <td>789</td>\n",
       "      <td>897.0</td>\n",
       "      <td>456.0</td>\n",
       "      <td>11.0</td>\n",
       "      <td>0</td>\n",
       "    </tr>\n",
       "  </tbody>\n",
       "</table>\n",
       "</div>"
      ],
      "text/plain": [
       "      A      B      C     D   E\n",
       "0   100   23.0   78.0   1.0  34\n",
       "1  2000   44.0   56.0   4.0  56\n",
       "2    24   44.0   12.0  18.0  78\n",
       "3   209   44.0   67.0  67.0  89\n",
       "4   789  897.0  456.0  11.0   0"
      ]
     },
     "execution_count": 38,
     "metadata": {},
     "output_type": "execute_result"
    }
   ],
   "source": [
    "# Agora vamos criar um dataframe que substitui os valores nulos por medianas\n",
    "\n",
    "matrizComMedianaAoInvesDeNulos2 = matrizComNulos2.fillna(matrizComNulos2.median(0))\n",
    "matrizComMedianaAoInvesDeNulos2"
   ]
  },
  {
   "cell_type": "code",
   "execution_count": 40,
   "id": "34885dae",
   "metadata": {},
   "outputs": [
    {
     "name": "stdout",
     "output_type": "stream",
     "text": [
      "      Filial     Nome  Venda\n",
      "0     Recife    Aline  10987\n",
      "1     Recife     João  19876\n",
      "2  Fortaleza     José  20304\n",
      "3  Fortaleza  Matheus   1345\n",
      "4      Natal   Melviw  56789\n",
      "5      Natal    Lucas   4537\n"
     ]
    }
   ],
   "source": [
    "vendasPorFilial = pd.DataFrame({\n",
    "    \"Filial\" : ['Recife', 'Recife', 'Fortaleza', 'Fortaleza',  'Natal', 'Natal'],\n",
    "    \"Nome\"   : [ 'Aline',   'João',      'José',   'Matheus', 'Melviw', 'Lucas'],\n",
    "    \"Venda\"  : [   10987,    19876,       20304,        1345,    56789,    4537]\n",
    "})\n",
    "\n",
    "# Visualizando a matriz\n",
    "print(vendasPorFilial)"
   ]
  },
  {
   "cell_type": "code",
   "execution_count": 43,
   "id": "19569a95",
   "metadata": {},
   "outputs": [
    {
     "data": {
      "text/html": [
       "<div>\n",
       "<style scoped>\n",
       "    .dataframe tbody tr th:only-of-type {\n",
       "        vertical-align: middle;\n",
       "    }\n",
       "\n",
       "    .dataframe tbody tr th {\n",
       "        vertical-align: top;\n",
       "    }\n",
       "\n",
       "    .dataframe thead th {\n",
       "        text-align: right;\n",
       "    }\n",
       "</style>\n",
       "<table border=\"1\" class=\"dataframe\">\n",
       "  <thead>\n",
       "    <tr style=\"text-align: right;\">\n",
       "      <th></th>\n",
       "      <th>Venda</th>\n",
       "    </tr>\n",
       "    <tr>\n",
       "      <th>Filial</th>\n",
       "      <th></th>\n",
       "    </tr>\n",
       "  </thead>\n",
       "  <tbody>\n",
       "    <tr>\n",
       "      <th>Fortaleza</th>\n",
       "      <td>21649</td>\n",
       "    </tr>\n",
       "    <tr>\n",
       "      <th>Natal</th>\n",
       "      <td>61326</td>\n",
       "    </tr>\n",
       "    <tr>\n",
       "      <th>Recife</th>\n",
       "      <td>30863</td>\n",
       "    </tr>\n",
       "  </tbody>\n",
       "</table>\n",
       "</div>"
      ],
      "text/plain": [
       "           Venda\n",
       "Filial          \n",
       "Fortaleza  21649\n",
       "Natal      61326\n",
       "Recife     30863"
      ]
     },
     "execution_count": 43,
     "metadata": {},
     "output_type": "execute_result"
    }
   ],
   "source": [
    "# Agrupamento das vendas por filial\n",
    "\n",
    "group = vendasPorFilial.groupby('Filial')\n",
    "group.sum()"
   ]
  },
  {
   "cell_type": "code",
   "execution_count": 44,
   "id": "d9773aa1",
   "metadata": {},
   "outputs": [
    {
     "data": {
      "text/html": [
       "<div>\n",
       "<style scoped>\n",
       "    .dataframe tbody tr th:only-of-type {\n",
       "        vertical-align: middle;\n",
       "    }\n",
       "\n",
       "    .dataframe tbody tr th {\n",
       "        vertical-align: top;\n",
       "    }\n",
       "\n",
       "    .dataframe thead th {\n",
       "        text-align: right;\n",
       "    }\n",
       "</style>\n",
       "<table border=\"1\" class=\"dataframe\">\n",
       "  <thead>\n",
       "    <tr style=\"text-align: right;\">\n",
       "      <th></th>\n",
       "      <th>Venda</th>\n",
       "    </tr>\n",
       "    <tr>\n",
       "      <th>Filial</th>\n",
       "      <th></th>\n",
       "    </tr>\n",
       "  </thead>\n",
       "  <tbody>\n",
       "    <tr>\n",
       "      <th>Fortaleza</th>\n",
       "      <td>10824.5</td>\n",
       "    </tr>\n",
       "    <tr>\n",
       "      <th>Natal</th>\n",
       "      <td>30663.0</td>\n",
       "    </tr>\n",
       "    <tr>\n",
       "      <th>Recife</th>\n",
       "      <td>15431.5</td>\n",
       "    </tr>\n",
       "  </tbody>\n",
       "</table>\n",
       "</div>"
      ],
      "text/plain": [
       "             Venda\n",
       "Filial            \n",
       "Fortaleza  10824.5\n",
       "Natal      30663.0\n",
       "Recife     15431.5"
      ]
     },
     "execution_count": 44,
     "metadata": {},
     "output_type": "execute_result"
    }
   ],
   "source": [
    "# Cálculo da média das vendas por filial\n",
    "\n",
    "group.mean()"
   ]
  },
  {
   "cell_type": "code",
   "execution_count": 45,
   "id": "3f8aeaf2",
   "metadata": {},
   "outputs": [
    {
     "data": {
      "text/plain": [
       "Venda    10987\n",
       "Name: Aline, dtype: int64"
      ]
     },
     "execution_count": 45,
     "metadata": {},
     "output_type": "execute_result"
    }
   ],
   "source": [
    "# Cálculo de todas as vendas que a Aline fez\n",
    "\n",
    "group = vendasPorFilial.groupby('Nome')\n",
    "group.sum().loc['Aline']"
   ]
  },
  {
   "cell_type": "code",
   "execution_count": null,
   "id": "6443a3a8",
   "metadata": {},
   "outputs": [],
   "source": []
  }
 ],
 "metadata": {
  "kernelspec": {
   "display_name": "Python 3 (ipykernel)",
   "language": "python",
   "name": "python3"
  },
  "language_info": {
   "codemirror_mode": {
    "name": "ipython",
    "version": 3
   },
   "file_extension": ".py",
   "mimetype": "text/x-python",
   "name": "python",
   "nbconvert_exporter": "python",
   "pygments_lexer": "ipython3",
   "version": "3.8.8"
  }
 },
 "nbformat": 4,
 "nbformat_minor": 5
}
