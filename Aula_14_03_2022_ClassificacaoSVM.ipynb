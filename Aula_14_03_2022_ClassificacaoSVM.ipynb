{
 "cells": [
  {
   "cell_type": "markdown",
   "id": "34a4e49c",
   "metadata": {},
   "source": [
    "# Aula 14/03/2022 - Aprendizado supervisionado - Reconhecendo Números"
   ]
  },
  {
   "cell_type": "markdown",
   "id": "03e3acb3",
   "metadata": {},
   "source": [
    "Vamos importar uma base de imagens de números escritos a mão. Utilizando técnicas de machine learning, vamos criar um modelo para identificar números escritos a mão, que não estavam na base."
   ]
  },
  {
   "cell_type": "code",
   "execution_count": 1,
   "id": "1f3c5a05",
   "metadata": {},
   "outputs": [],
   "source": [
    "# Vamos tentar fazer juntos? Se no laboratório não estiver rodando o python, vamos \n",
    "# tentar usar o binder.\n",
    "# É só acessar o link https://jupyter.org/try"
   ]
  },
  {
   "cell_type": "code",
   "execution_count": 2,
   "id": "884450d3",
   "metadata": {},
   "outputs": [],
   "source": [
    "# Existem várias bases desse tipo disponíveis na rede. Vamos usar uma disponível no sklearn\n",
    "# Importando base load_digits\n",
    "# Mais detalhes sobre a base podem ser encontrados aqui\n",
    "\n",
    "from sklearn.datasets import load_digits"
   ]
  },
  {
   "cell_type": "code",
   "execution_count": 3,
   "id": "a738f5ab",
   "metadata": {},
   "outputs": [],
   "source": [
    "# Vou carregar as imagens no objeto digitosCarregados\n",
    "\n",
    "digitosCarregados = load_digits()"
   ]
  },
  {
   "cell_type": "code",
   "execution_count": 4,
   "id": "7fdbe51d",
   "metadata": {},
   "outputs": [
    {
     "data": {
      "text/plain": [
       "(1797, 64)"
      ]
     },
     "execution_count": 4,
     "metadata": {},
     "output_type": "execute_result"
    }
   ],
   "source": [
    "# Vamos ver quantas instâncias e quantos atributos tem nesse dataset\n",
    "\n",
    "digitosCarregados.data.shape"
   ]
  },
  {
   "cell_type": "code",
   "execution_count": 5,
   "id": "c0182fc5",
   "metadata": {},
   "outputs": [],
   "source": [
    "# Para ter uma ideia mais clara das imagens, vamos exibir algumas\n",
    "# Para isso, vamos importar e usar a biblioteca matpltlib\n",
    "\n",
    "import matplotlib.pyplot as plt"
   ]
  },
  {
   "cell_type": "code",
   "execution_count": 9,
   "id": "b6ae0a3e",
   "metadata": {},
   "outputs": [
    {
     "data": {
      "text/plain": [
       "<matplotlib.image.AxesImage at 0x283fcbbd850>"
      ]
     },
     "execution_count": 9,
     "metadata": {},
     "output_type": "execute_result"
    },
    {
     "data": {
      "image/png": "[encoded data removed]",
      "text/plain": [
       "<Figure size 288x288 with 1 Axes>"
      ]
     },
     "metadata": {
      "needs_background": "light"
     },
     "output_type": "display_data"
    }
   ],
   "source": [
    "# Vamos exibir uma das imagens para ter uma ideia de como está armazenado\n",
    "\n",
    "plt.matshow(digitosCarregados.images[1796])"
   ]
  },
  {
   "cell_type": "code",
   "execution_count": 10,
   "id": "f0b8f5d9",
   "metadata": {},
   "outputs": [
    {
     "data": {
      "text/plain": [
       "<Figure size 432x288 with 0 Axes>"
      ]
     },
     "metadata": {},
     "output_type": "display_data"
    }
   ],
   "source": [
    "# Podemos tratar as imagens com cores, mas se o objetivo é \n",
    "# simplesmente identificar o número, podemos usar uma escala de cinza. Para isso, fazemos:\n",
    "# Colocando em escala de cinza\n",
    "\n",
    "plt.gray()"
   ]
  },
  {
   "cell_type": "code",
   "execution_count": 11,
   "id": "d31542f3",
   "metadata": {},
   "outputs": [
    {
     "data": {
      "text/plain": [
       "<matplotlib.image.AxesImage at 0x283fcc31070>"
      ]
     },
     "execution_count": 11,
     "metadata": {},
     "output_type": "execute_result"
    },
    {
     "data": {
      "image/png": "[encoded data removed]",
      "text/plain": [
       "<Figure size 288x288 with 1 Axes>"
      ]
     },
     "metadata": {
      "needs_background": "light"
     },
     "output_type": "display_data"
    }
   ],
   "source": [
    "# Exibindo o gráfico\n",
    "\n",
    "plt.matshow(digitosCarregados.images[5])"
   ]
  },
  {
   "cell_type": "code",
   "execution_count": 12,
   "id": "2afa8f5e",
   "metadata": {},
   "outputs": [
    {
     "data": {
      "text/plain": [
       "<matplotlib.image.AxesImage at 0x283fccab820>"
      ]
     },
     "execution_count": 12,
     "metadata": {},
     "output_type": "execute_result"
    },
    {
     "data": {
      "text/plain": [
       "<Figure size 432x288 with 0 Axes>"
      ]
     },
     "metadata": {},
     "output_type": "display_data"
    },
    {
     "data": {
      "image/png": "[encoded data removed]",
      "text/plain": [
       "<Figure size 288x288 with 1 Axes>"
      ]
     },
     "metadata": {
      "needs_background": "light"
     },
     "output_type": "display_data"
    }
   ],
   "source": [
    "# Existem outros formatos, se quiser mudar\n",
    "# Para mais informações, consulte https://matplotlib.org/stable/api/_as_gen/matplotlib.pyplot.html \n",
    "\n",
    "plt.copper()\n",
    "plt.matshow(digitosCarregados.images[0])"
   ]
  },
  {
   "cell_type": "code",
   "execution_count": 13,
   "id": "dbeeeba2",
   "metadata": {},
   "outputs": [
    {
     "data": {
      "text/plain": [
       "<matplotlib.image.AxesImage at 0x283fcd60ac0>"
      ]
     },
     "execution_count": 13,
     "metadata": {},
     "output_type": "execute_result"
    },
    {
     "data": {
      "text/plain": [
       "<Figure size 432x288 with 0 Axes>"
      ]
     },
     "metadata": {},
     "output_type": "display_data"
    },
    {
     "data": {
      "image/png": "[encoded data removed]",
      "text/plain": [
       "<Figure size 288x288 with 1 Axes>"
      ]
     },
     "metadata": {
      "needs_background": "light"
     },
     "output_type": "display_data"
    },
    {
     "data": {
      "image/png": "[encoded data removed]",
      "text/plain": [
       "<Figure size 288x288 with 1 Axes>"
      ]
     },
     "metadata": {
      "needs_background": "light"
     },
     "output_type": "display_data"
    }
   ],
   "source": [
    "# Vamos trabalhar com escala de cinza. Vamos ver algumas imagens variadas\n",
    "\n",
    "plt.gray()\n",
    "plt.matshow(digitosCarregados.images[2])\n",
    "plt.matshow(digitosCarregados.images[6])"
   ]
  },
  {
   "cell_type": "code",
   "execution_count": 16,
   "id": "46bc7292",
   "metadata": {},
   "outputs": [
    {
     "data": {
      "image/png": "[encoded data removed]",
      "text/plain": [
       "<Figure size 720x216 with 6 Axes>"
      ]
     },
     "metadata": {
      "needs_background": "light"
     },
     "output_type": "display_data"
    }
   ],
   "source": [
    "# Também podemos colocar imagens lado a lado. Não é obrigatório, mas facilita a visualização.\n",
    "# Existem várias formas de fazer isso, a seguir coloco uma delas.\n",
    "# Desafio - Explicar como funciona essa estrutura\n",
    "\n",
    "_, axes = plt.subplots(nrows=1, ncols=6, figsize=(10, 3))\n",
    "for ax, image, label in zip(axes, digitosCarregados.images, digitosCarregados.target):\n",
    "    ax.set_axis_off()\n",
    "    ax.imshow(image, cmap=plt.cm.gray_r, interpolation=\"nearest\")\n",
    "    ax.set_title(\"A treinar: %i\" % label)"
   ]
  },
  {
   "cell_type": "code",
   "execution_count": 17,
   "id": "b0a30059",
   "metadata": {},
   "outputs": [
    {
     "name": "stdout",
     "output_type": "stream",
     "text": [
      "O número de amostras e:  1797\n",
      "O shape das imagens inicialmente era de:  (1797, 8, 8)\n"
     ]
    }
   ],
   "source": [
    "# Bem, agora que já demos uma explorada na base, vamos modelar\n",
    "# Queremos classificar os números corretamente\n",
    "\n",
    "numeroDeAmostras = len(digitosCarregados.images)\n",
    "print('O número de amostras e: ', numeroDeAmostras)\n",
    "print('O shape das imagens inicialmente era de: ', digitosCarregados.images.shape)"
   ]
  },
  {
   "cell_type": "code",
   "execution_count": 18,
   "id": "ac2b641f",
   "metadata": {},
   "outputs": [
    {
     "name": "stdout",
     "output_type": "stream",
     "text": [
      "O shape dos dados agora é:  (1797, 64)\n"
     ]
    }
   ],
   "source": [
    "# Fazendo um reshape nos dados\n",
    "# Maiores informações sobre o método, podem ser encontradas aqui\n",
    "# https://numpy.org/doc/stable/reference/generated/numpy.reshape.html\n",
    "\n",
    "data = digitosCarregados.images.reshape((numeroDeAmostras, -1))\n",
    "print('O shape dos dados agora é: ', data.shape)"
   ]
  },
  {
   "cell_type": "code",
   "execution_count": 19,
   "id": "645183eb",
   "metadata": {},
   "outputs": [],
   "source": [
    "# Vamos criar um classificador, usando uma máquina de vetores de suporte (SVM)\n",
    "# É um a técnica de aprendizado supervisionado\n",
    "# A idéia essencial dessa abordagem, é conseguir encontrar um hiperplano que consiga\n",
    "# separar classes distintas.\n",
    "# O sklearn já possui uma biblioteca implementada nesse sentido, que é a svm\n",
    "# Mais detalhes podem ser encontrados aqui https://scikit-learn.org/stable/modules/svm.html\n",
    "# Outro link bacana é o https://scikit-learn.org/stable/modules/svm.html#svm\n",
    "\n",
    "from sklearn import svm\n",
    "classificador = svm.SVC(gamma=0.001)"
   ]
  },
  {
   "cell_type": "code",
   "execution_count": 20,
   "id": "b71d05cb",
   "metadata": {},
   "outputs": [],
   "source": [
    "\"\"\"\n",
    "Para poder fazer nosso treinamento, vamos dividir o conjunto em conjunto de treinamento\n",
    "e conjunto de testes. Vamos estudar os efeitos da proporção. \n",
    "A biblioteca que teremos de importar é a \n",
    "https://scikit-learn.org/stable/modules/generated/sklearn.model_selection.train_test_split.html\n",
    "\"\"\"\n",
    "\n",
    "from sklearn.model_selection import train_test_split"
   ]
  },
  {
   "cell_type": "code",
   "execution_count": 41,
   "id": "bfc86160",
   "metadata": {},
   "outputs": [
    {
     "name": "stdout",
     "output_type": "stream",
     "text": [
      "O conjunto de treinamento tem um shape de:  (898, 64)\n",
      "O conjunto de testes tem um shape de     :  (899, 64)\n"
     ]
    }
   ],
   "source": [
    "\"\"\"\n",
    "Inicialmente nosso conjunto de testes terá 50% dos dados (test_size = 0.5). \n",
    "Cada equipe vai variar esse valor, e estudar os impactos dessa variação.\n",
    "\"\"\"\n",
    "X_train, X_test, y_train, y_test = train_test_split(\n",
    "    data, digitosCarregados.target, test_size=0.5, shuffle=False\n",
    ")\n",
    "print('O conjunto de treinamento tem um shape de: ', X_train.shape)\n",
    "print('O conjunto de testes tem um shape de     : ', X_test.shape)"
   ]
  },
  {
   "cell_type": "code",
   "execution_count": 24,
   "id": "71040e88",
   "metadata": {},
   "outputs": [
    {
     "data": {
      "text/plain": [
       "array([0, 1, 2, 3, 4, 5, 6, 7, 8, 9, 0, 1, 2, 3, 4, 5, 6, 7, 8, 9, 0, 1,\n",
       "       2, 3, 4, 5, 6, 7, 8, 9, 0, 9, 5, 5, 6, 5, 0, 9, 8, 9, 8, 4, 1, 7,\n",
       "       7, 3, 5, 1, 0, 0, 2, 2, 7, 8, 2, 0, 1, 2, 6, 3, 3, 7, 3, 3, 4, 6,\n",
       "       6, 6, 4, 9, 1, 5, 0, 9, 5, 2, 8, 2, 0, 0, 1, 7, 6, 3, 2, 1, 7, 4,\n",
       "       6, 3, 1, 3, 9, 1, 7, 6, 8, 4, 3, 1, 4, 0, 5, 3, 6, 9, 6, 1, 7, 5,\n",
       "       4, 4, 7, 2, 8, 2, 2, 5, 7, 9, 5, 4, 8, 8, 4, 9, 0, 8, 9, 8, 0, 1,\n",
       "       2, 3, 4, 5, 6, 7, 8, 9, 0, 1, 2, 3, 4, 5, 6, 7, 8, 9, 0, 1, 2, 3,\n",
       "       4, 5, 6, 7, 8, 9, 0, 9, 5, 5, 6, 5, 0, 9, 8, 9, 8, 4, 1, 7, 7, 3,\n",
       "       5, 1, 0, 0, 2, 2, 7, 8, 2, 0, 1, 2, 6, 3, 3, 7, 3, 3, 4, 6, 6, 6,\n",
       "       4, 9, 1, 5, 0, 9, 5, 2, 8, 2, 0, 0, 1, 7, 6, 3, 2, 1, 7, 3, 1, 3,\n",
       "       9, 1, 7, 6, 8, 4, 3, 1, 4, 0, 5, 3, 6, 9, 6, 1, 7, 5, 4, 4, 7, 2,\n",
       "       8, 2, 2, 5, 5, 4, 8, 8, 4, 9, 0, 8, 9, 8, 0, 1, 2, 3, 4, 5, 6, 7,\n",
       "       8, 9, 0, 1, 2, 3, 4, 5, 6, 7, 8, 9, 0, 1, 2, 3, 4, 5, 6, 7, 8, 9,\n",
       "       0, 9, 5, 5, 6, 5, 0, 9, 8, 9, 8, 4, 1, 7, 7, 3, 5, 1, 0, 0, 2, 2,\n",
       "       7, 8, 2, 0, 1, 2, 6, 3, 3, 7, 3, 3, 4, 6, 6, 6, 4, 9, 1, 5, 0, 9,\n",
       "       5, 2, 8, 2, 0, 0, 1, 7, 6, 3, 2, 1, 7, 4, 6, 3, 1, 3, 9, 1, 7, 6,\n",
       "       8, 4, 3, 1, 4, 0, 5, 3, 6, 9, 6, 1, 7, 5, 4, 4, 7, 2, 8, 2, 2, 5,\n",
       "       7, 9, 5, 4, 8, 8, 4, 9, 0, 8, 9, 3, 0, 1, 2, 3, 4, 5, 6, 7, 8, 9,\n",
       "       0, 1, 2, 3, 4, 5, 6, 7, 8, 9, 0, 1, 2, 3, 4, 5, 6, 7, 8, 9, 0, 9,\n",
       "       5, 5, 6, 5, 0, 9, 8, 9, 8, 4, 1, 7, 7, 3, 5, 1, 0, 0, 2, 2, 7, 8,\n",
       "       2, 0, 1, 2, 6, 3, 3, 7, 3, 3, 4, 6, 6, 6, 4, 9, 1, 5, 0, 9, 5, 2,\n",
       "       8, 2, 0, 0, 1, 7, 6, 3, 2, 1, 7, 4, 6, 3, 1, 3, 9, 1, 7, 6, 8, 4,\n",
       "       3, 1, 4, 0, 5, 3, 6, 9, 6, 1, 7, 5, 4, 4, 7, 2, 8, 2, 2, 5, 7, 9,\n",
       "       5, 4, 8, 8, 4, 9, 0, 8, 9, 8, 0, 1, 2, 3, 4, 5, 6, 7, 8, 9, 0, 1,\n",
       "       2, 3, 4, 5, 6, 7, 8, 9, 0, 1, 2, 3, 4, 5, 6, 7, 8, 9, 0, 9, 5, 5,\n",
       "       6, 5, 0, 9, 8, 9, 8, 4, 1, 7, 7, 3, 5, 1, 0, 0, 2, 2, 7, 8, 2, 0,\n",
       "       1, 2, 6, 3, 3, 7, 3, 3, 4, 6, 6, 6, 4, 9, 1, 5, 0, 9, 5, 2, 8, 2,\n",
       "       0, 0, 1, 7, 6, 3, 2, 1, 7, 4, 6, 3, 1, 3, 9, 1, 7, 6, 8, 4, 3, 1,\n",
       "       4, 0, 5, 3, 6, 9, 6, 1, 7, 5, 4, 4, 7, 2, 8, 2, 2, 5, 7, 9, 5, 4,\n",
       "       8, 8, 4, 9, 0, 8, 9, 8, 0, 1, 2, 3, 4, 5, 6, 7, 8, 9, 0, 1, 2, 3,\n",
       "       4, 5, 6, 7, 8, 9, 0, 1, 2, 3, 4, 5, 6, 7, 8, 9, 0, 9, 5, 5, 6, 5,\n",
       "       0, 9, 8, 9, 8, 4, 1, 7, 7, 3, 5, 1, 0, 0, 2, 2, 7, 8, 2, 0, 1, 2,\n",
       "       6, 3, 3, 7, 3, 3, 4, 6, 6, 6, 4, 9, 1, 5, 0, 9, 5, 2, 8, 2, 0, 0,\n",
       "       1, 7, 6, 3, 2, 1, 7, 4, 6, 3, 1, 3, 9, 1, 7, 6, 8, 4, 3, 1, 4, 0,\n",
       "       5, 3, 6, 9, 6, 1, 7, 5, 4, 4, 7, 2, 8, 2, 2, 5, 7, 9, 5, 4, 8, 8,\n",
       "       4, 9, 0, 8, 9, 8, 0, 1, 2, 3, 4, 5, 6, 7, 8, 9, 0, 1, 2, 3, 4, 5,\n",
       "       6, 7, 8, 9, 0, 1, 2, 3, 4, 5, 6, 7, 8, 9, 0, 9, 5, 5, 6, 5, 0, 9,\n",
       "       8, 9, 8, 4, 1, 7, 7, 3, 5, 1, 0, 0, 2, 2, 7, 8, 2, 0, 1, 2, 6, 3,\n",
       "       3, 7, 3, 3, 4, 6, 6, 6, 4, 9, 1, 5, 0, 9, 5, 2, 8, 2, 0, 0, 1, 7,\n",
       "       6, 3, 2, 1, 7, 4, 6, 3, 1, 3, 9, 1, 7, 6, 8, 4, 3, 1, 4, 0, 5, 3,\n",
       "       6, 9, 6, 1, 7, 5, 4, 4, 7, 2, 8, 2, 2, 5, 7, 9, 5, 4])"
      ]
     },
     "execution_count": 24,
     "metadata": {},
     "output_type": "execute_result"
    }
   ],
   "source": [
    "# O y de treino, está associado ao target. Ou seja, temos o gabarito de todas \n",
    "# as imagens, sabemos qual é a resposta que deveria ser dada. \n",
    "# Vamos ver como ele é?\n",
    "\n",
    "y_train"
   ]
  },
  {
   "cell_type": "code",
   "execution_count": 36,
   "id": "ff026fba",
   "metadata": {},
   "outputs": [
    {
     "data": {
      "text/plain": [
       "SVC(gamma=0.001)"
      ]
     },
     "execution_count": 36,
     "metadata": {},
     "output_type": "execute_result"
    }
   ],
   "source": [
    "# Chegou a hora de aprender com os dados. Vamos usar o metodo\n",
    "# fit do classificador que criamos\n",
    "# Olha que bacana, só essa linha já faz o treinamento\n",
    "\n",
    "classificador.fit(X_train, y_train)"
   ]
  },
  {
   "cell_type": "code",
   "execution_count": 37,
   "id": "38a09002",
   "metadata": {},
   "outputs": [
    {
     "data": {
      "text/plain": [
       "array([3, 6, 9, ..., 8, 9, 8])"
      ]
     },
     "execution_count": 37,
     "metadata": {},
     "output_type": "execute_result"
    }
   ],
   "source": [
    "# Agora vamos prever os valores do conjunto de testes, usando o metodo\n",
    "# predict\n",
    "\n",
    "previsoes = classificador.predict(X_test)\n",
    "previsoes"
   ]
  },
  {
   "cell_type": "code",
   "execution_count": 38,
   "id": "5f567923",
   "metadata": {},
   "outputs": [
    {
     "name": "stdout",
     "output_type": "stream",
     "text": [
      "A previsao para o elemento 45 do conjunto de teste é :  8\n",
      "O resultado para o elemento 45 do conjunto de teste é:  8\n"
     ]
    }
   ],
   "source": [
    "print('A previsao para o elemento 45 do conjunto de teste é : ', previsoes[45])\n",
    "print('O resultado para o elemento 45 do conjunto de teste é: ', y_test[45])"
   ]
  },
  {
   "cell_type": "code",
   "execution_count": 29,
   "id": "b9121352",
   "metadata": {},
   "outputs": [
    {
     "data": {
      "image/png": "[encoded data removed]",
      "text/plain": [
       "<Figure size 720x216 with 4 Axes>"
      ]
     },
     "metadata": {
      "needs_background": "light"
     },
     "output_type": "display_data"
    }
   ],
   "source": [
    "# Opcional, podemos organizar as imagens de outra forma e dar uma olhadinha...\n",
    "_, axes = plt.subplots(nrows=1, ncols=4, figsize=(10, 3))\n",
    "for ax, image, prediction in zip(axes, X_test, previsoes):\n",
    "    ax.set_axis_off()\n",
    "    image = image.reshape(8, 8)\n",
    "    ax.imshow(image, cmap=plt.cm.gray_r, interpolation=\"nearest\")\n",
    "    ax.set_title(f\"Previsão: {prediction}\")"
   ]
  },
  {
   "cell_type": "code",
   "execution_count": 30,
   "id": "e2b7bb29",
   "metadata": {},
   "outputs": [],
   "source": [
    "# Não podemos ver cada imagem individualmente, precisamos gerar relatórios\n",
    "# para fornecer os \"big numbers\". Para isso vamos usar algumas métricas\n",
    "# disponíveis em https://scikit-learn.org/stable/modules/model_evaluation.html\n",
    "# Outro link bacana é o https://scikit-learn.org/stable/modules/classes.html#module-sklearn.metrics\n",
    "\n",
    "from sklearn import metrics"
   ]
  },
  {
   "cell_type": "code",
   "execution_count": 31,
   "id": "8df17de7",
   "metadata": {},
   "outputs": [
    {
     "name": "stdout",
     "output_type": "stream",
     "text": [
      "Relatório de classificação por classificador SVC(gamma=0.001):\n",
      "              precision    recall  f1-score   support\n",
      "\n",
      "           0       1.00      0.99      0.99        88\n",
      "           1       0.99      0.97      0.98        91\n",
      "           2       0.99      0.99      0.99        86\n",
      "           3       0.98      0.87      0.92        91\n",
      "           4       0.99      0.96      0.97        92\n",
      "           5       0.95      0.97      0.96        91\n",
      "           6       0.99      0.99      0.99        91\n",
      "           7       0.96      0.99      0.97        89\n",
      "           8       0.94      1.00      0.97        88\n",
      "           9       0.93      0.98      0.95        92\n",
      "\n",
      "    accuracy                           0.97       899\n",
      "   macro avg       0.97      0.97      0.97       899\n",
      "weighted avg       0.97      0.97      0.97       899\n",
      "\n",
      "\n"
     ]
    }
   ],
   "source": [
    "# Agora vamos gerar o relatório das classificações (50%)\n",
    "print(\n",
    "    f\"Relatório de classificação por classificador {classificador}:\\n\"\n",
    "    f\"{metrics.classification_report(y_test, previsoes)}\\n\"\n",
    ")"
   ]
  },
  {
   "cell_type": "code",
   "execution_count": 39,
   "id": "ee1ab7df",
   "metadata": {},
   "outputs": [
    {
     "name": "stdout",
     "output_type": "stream",
     "text": [
      "Relatório de classificação por classificador SVC(gamma=0.001):\n",
      "              precision    recall  f1-score   support\n",
      "\n",
      "           0       0.99      0.99      0.99       140\n",
      "           1       0.90      0.73      0.80       144\n",
      "           2       0.86      0.93      0.89       141\n",
      "           3       0.98      0.76      0.86       145\n",
      "           4       0.98      0.97      0.97       147\n",
      "           5       0.96      0.92      0.94       146\n",
      "           6       0.97      0.96      0.96       145\n",
      "           7       0.96      0.91      0.94       144\n",
      "           8       0.84      0.87      0.86       140\n",
      "           9       0.65      0.91      0.76       146\n",
      "\n",
      "    accuracy                           0.89      1438\n",
      "   macro avg       0.91      0.89      0.90      1438\n",
      "weighted avg       0.91      0.89      0.90      1438\n",
      "\n",
      "\n"
     ]
    }
   ],
   "source": [
    "# Agora vamos gerar o relatório das classificações (20% de treinamento)\n",
    "print(\n",
    "    f\"Relatório de classificação por classificador {classificador}:\\n\"\n",
    "    f\"{metrics.classification_report(y_test, previsoes)}\\n\"\n",
    ")"
   ]
  },
  {
   "cell_type": "code",
   "execution_count": 32,
   "id": "bf4df7cd",
   "metadata": {},
   "outputs": [],
   "source": [
    "# Para entender as classificações da tabela acima, precisamos ver \n",
    "# https://scikit-learn.org/stable/modules/model_evaluation.html\n",
    "# Um outro material bacana é o \n",
    "# https://developers.google.com/machine-learning/crash-course/classification/precision-and-recall"
   ]
  },
  {
   "cell_type": "code",
   "execution_count": 33,
   "id": "fa352de9",
   "metadata": {},
   "outputs": [
    {
     "name": "stdout",
     "output_type": "stream",
     "text": [
      "Matrix de Confusão:\n",
      "[[87  0  0  0  1  0  0  0  0  0]\n",
      " [ 0 88  1  0  0  0  0  0  1  1]\n",
      " [ 0  0 85  1  0  0  0  0  0  0]\n",
      " [ 0  0  0 79  0  3  0  4  5  0]\n",
      " [ 0  0  0  0 88  0  0  0  0  4]\n",
      " [ 0  0  0  0  0 88  1  0  0  2]\n",
      " [ 0  1  0  0  0  0 90  0  0  0]\n",
      " [ 0  0  0  0  0  1  0 88  0  0]\n",
      " [ 0  0  0  0  0  0  0  0 88  0]\n",
      " [ 0  0  0  1  0  1  0  0  0 90]]\n"
     ]
    },
    {
     "data": {
      "image/png": "[encoded data removed]",
      "text/plain": [
       "<Figure size 432x288 with 2 Axes>"
      ]
     },
     "metadata": {
      "needs_background": "light"
     },
     "output_type": "display_data"
    }
   ],
   "source": [
    "# Agora vamos estudar a matriz de confusão\n",
    "disp = metrics.ConfusionMatrixDisplay.from_predictions(y_test, previsoes)\n",
    "disp.figure_.suptitle(\"Matrix de Confusão\")\n",
    "print(f\"Matrix de Confusão:\\n{disp.confusion_matrix}\")\n",
    "plt.show()"
   ]
  },
  {
   "cell_type": "code",
   "execution_count": 34,
   "id": "bfe30a61",
   "metadata": {},
   "outputs": [
    {
     "data": {
      "text/plain": [
       "(10, 10)"
      ]
     },
     "execution_count": 34,
     "metadata": {},
     "output_type": "execute_result"
    }
   ],
   "source": [
    "disp.confusion_matrix.shape"
   ]
  },
  {
   "cell_type": "code",
   "execution_count": 40,
   "id": "39b0e785",
   "metadata": {},
   "outputs": [
    {
     "name": "stdout",
     "output_type": "stream",
     "text": [
      "Matrix de Confusão:\n",
      "[[139   0   0   0   1   0   0   0   0   0]\n",
      " [  0 105  18   0   0   1   4   0  13   3]\n",
      " [  0   0 131   2   0   0   0   0   0   8]\n",
      " [  0   0   2 110   0   3   0   2   4  24]\n",
      " [  0   0   0   0 142   0   0   1   0   4]\n",
      " [  0   0   0   0   2 134   1   0   0   9]\n",
      " [  2   1   0   0   0   0 139   0   3   0]\n",
      " [  0   0   0   0   0   0   0 131   1  12]\n",
      " [  0   3   2   0   0   1   0   0 122  12]\n",
      " [  0   8   0   0   0   1   0   2   2 133]]\n"
     ]
    },
    {
     "data": {
      "image/png": "[encoded data removed]",
      "text/plain": [
       "<Figure size 432x288 with 2 Axes>"
      ]
     },
     "metadata": {
      "needs_background": "light"
     },
     "output_type": "display_data"
    }
   ],
   "source": [
    "# Agora vamos estudar a matriz de confusão (20% para treinamento)\n",
    "disp = metrics.ConfusionMatrixDisplay.from_predictions(y_test, previsoes)\n",
    "disp.figure_.suptitle(\"Matrix de Confusão\")\n",
    "print(f\"Matrix de Confusão:\\n{disp.confusion_matrix}\")\n",
    "plt.show()"
   ]
  },
  {
   "cell_type": "code",
   "execution_count": null,
   "id": "010173dd",
   "metadata": {},
   "outputs": [],
   "source": []
  }
 ],
 "metadata": {
  "kernelspec": {
   "display_name": "Python 3 (ipykernel)",
   "language": "python",
   "name": "python3"
  },
  "language_info": {
   "codemirror_mode": {
    "name": "ipython",
    "version": 3
   },
   "file_extension": ".py",
   "mimetype": "text/x-python",
   "name": "python",
   "nbconvert_exporter": "python",
   "pygments_lexer": "ipython3",
   "version": "3.8.8"
  }
 },
 "nbformat": 4,
 "nbformat_minor": 5
}
